{
  "nbformat": 4,
  "nbformat_minor": 0,
  "metadata": {
    "colab": {
      "provenance": [],
      "authorship_tag": "ABX9TyOQn4n2W1ljBLRXxcVCdaX/",
      "include_colab_link": true
    },
    "kernelspec": {
      "name": "python3",
      "display_name": "Python 3"
    },
    "language_info": {
      "name": "python"
    }
  },
  "cells": [
    {
      "cell_type": "markdown",
      "metadata": {
        "id": "view-in-github",
        "colab_type": "text"
      },
      "source": [
        "<a href=\"https://colab.research.google.com/github/mojnouran/RL-Gambler-SuttonBook/blob/main/Gradient_Vanishing.ipynb\" target=\"_parent\"><img src=\"https://colab.research.google.com/assets/colab-badge.svg\" alt=\"Open In Colab\"/></a>"
      ]
    },
    {
      "cell_type": "code",
      "execution_count": 38,
      "metadata": {
        "id": "-i2jhbciMb9h"
      },
      "outputs": [],
      "source": [
        "import numpy as np\n",
        "from tqdm import tqdm\n",
        "\n",
        "import torch\n",
        "import torch.nn  as nn\n",
        "import torch.optim as optim\n",
        "\n",
        "import torch.nn.functional as F\n",
        "from torch.utils.data import DataLoader\n",
        "from torchvision import datasets, transforms\n",
        "from torchvision.utils import make_grid\n",
        "\n",
        "import pandas as pd\n",
        "from sklearn.metrics import confusion_matrix\n",
        "import matplotlib.pyplot as plt\n",
        "%matplotlib inline"
      ]
    },
    {
      "cell_type": "code",
      "source": [
        "# Convert MNIST image files into a Tensor of 4-Dimensions (# of images, Height, Width, color channels)\n",
        "transform = transforms.ToTensor()"
      ],
      "metadata": {
        "id": "yp9_E7DOUuFg"
      },
      "execution_count": 39,
      "outputs": []
    },
    {
      "cell_type": "code",
      "source": [
        "# train\n",
        "train_data = datasets.MNIST(root=\"CNN data\", train = True, transform = transform, download = True)"
      ],
      "metadata": {
        "id": "OZvFASTNW4_d"
      },
      "execution_count": 40,
      "outputs": []
    },
    {
      "cell_type": "code",
      "source": [
        "test_data = datasets.MNIST(root=\"CNN data\", train = False, transform = transform, download = True)"
      ],
      "metadata": {
        "id": "iAyq52gxcu9W"
      },
      "execution_count": 41,
      "outputs": []
    },
    {
      "cell_type": "code",
      "source": [
        "batch_size = 100\n",
        "n_iter = 3000\n",
        "train_size = len(train_data)\n",
        "num_epochs = (n_iter * batch_size)/ (train_size)\n",
        "num_epochs = int(num_epochs)\n",
        "\n",
        "train_loader = DataLoader(dataset = train_data, batch_size = batch_size, shuffle = True)\n",
        "test_loader = DataLoader(dataset = test_data, batch_size = batch_size, shuffle = False)"
      ],
      "metadata": {
        "id": "-l2xvi56eMK7"
      },
      "execution_count": 42,
      "outputs": []
    },
    {
      "cell_type": "code",
      "source": [
        "# Creat the model class\n",
        "class FeedForwardNN(nn.Module):\n",
        "  def __init__(self, input_dim, hidden_dim, output_dim):\n",
        "    super(FeedForwardNN, self).__init__()\n",
        "\n",
        "\n",
        "    # Linear function (net)\n",
        "    self.fc1 = nn.Linear(input_dim, hidden_dim)\n",
        "    #Non-linearity\n",
        "    self.sigmoid = nn.Sigmoid()\n",
        "    #Linear function(read-out)\n",
        "    self.fc2 = nn.Linear(hidden_dim, output_dim)\n",
        "\n",
        "  def forward(self,x):\n",
        "    #net\n",
        "    out = self.fc1(x)\n",
        "    #Non-linearity\n",
        "    out = self.sigmoid(out)\n",
        "    # Linear read-out\n",
        "    out = self.fc2(out)\n",
        "    return out"
      ],
      "metadata": {
        "id": "GO9dKepeQiOt"
      },
      "execution_count": 43,
      "outputs": []
    },
    {
      "cell_type": "code",
      "source": [
        "# Instantiate model class\n",
        "input_dim = 28 * 28\n",
        "hidden_dim = 100\n",
        "output_dim = 10\n",
        "model = FeedForwardNN(input_dim, hidden_dim, output_dim)"
      ],
      "metadata": {
        "id": "HAVyUyDogNbZ"
      },
      "execution_count": 44,
      "outputs": []
    },
    {
      "cell_type": "code",
      "source": [
        "# Loss class\n",
        "loss = nn.CrossEntropyLoss()"
      ],
      "metadata": {
        "id": "1Tg61TULhmiT"
      },
      "execution_count": 45,
      "outputs": []
    },
    {
      "cell_type": "code",
      "source": [
        "# Instantiate optimizer class\n",
        "Learning_rate = 0.01\n",
        "optimizer = torch.optim.SGD(model.parameters(), lr = Learning_rate)"
      ],
      "metadata": {
        "id": "raO5eriRhueF"
      },
      "execution_count": 46,
      "outputs": []
    },
    {
      "cell_type": "code",
      "source": [
        "# number of parameter names\n",
        "print(len(list(model.parameters())))\n",
        "# size of parameters\n",
        "print(model.parameters)\n",
        "print(f\"Size of W1: {list(model.parameters())[0].size()}\")\n",
        "print(f\"Size of b1:{list(model.parameters())[1].size()}\")\n",
        "print(f\"size of W_out: {list(model.parameters())[2].size()}\")\n",
        "print(f\"Size of b2: {list(model.parameters())[3].size()}\")"
      ],
      "metadata": {
        "colab": {
          "base_uri": "https://localhost:8080/"
        },
        "id": "uU6fvQjEDblx",
        "outputId": "a947e555-a376-412f-81fe-307a9797b2da"
      },
      "execution_count": 57,
      "outputs": [
        {
          "output_type": "stream",
          "name": "stdout",
          "text": [
            "4\n",
            "<bound method Module.parameters of FeedForwardNN(\n",
            "  (fc1): Linear(in_features=784, out_features=100, bias=True)\n",
            "  (sigmoid): Sigmoid()\n",
            "  (fc2): Linear(in_features=100, out_features=10, bias=True)\n",
            ")>\n",
            "Size of W1: torch.Size([100, 784])\n",
            "Size of b1:torch.Size([100])\n",
            "size of W_out: torch.Size([10, 100])\n",
            "Size of b2: torch.Size([10])\n"
          ]
        }
      ]
    },
    {
      "cell_type": "code",
      "source": [
        "# 7 step training process\n"
      ],
      "metadata": {
        "id": "kLadf1uhR_eM"
      },
      "execution_count": null,
      "outputs": []
    }
  ]
}